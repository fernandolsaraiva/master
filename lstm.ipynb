{
 "cells": [
  {
   "cell_type": "markdown",
   "metadata": {},
   "source": [
    "# Importar as bibliotecas"
   ]
  },
  {
   "cell_type": "code",
   "execution_count": 1,
   "metadata": {},
   "outputs": [
    {
     "name": "stderr",
     "output_type": "stream",
     "text": [
      "/Users/fernandosaraiva/anaconda3/envs/tamanduatei/lib/python3.10/site-packages/tqdm/auto.py:21: TqdmWarning: IProgress not found. Please update jupyter and ipywidgets. See https://ipywidgets.readthedocs.io/en/stable/user_install.html\n",
      "  from .autonotebook import tqdm as notebook_tqdm\n"
     ]
    }
   ],
   "source": [
    "from sklearn.feature_selection import RFE\n",
    "from sklearn.ensemble import RandomForestRegressor\n",
    "import optuna\n",
    "from optuna.samplers import TPESampler\n",
    "import numpy as np\n",
    "import pandas as pd\n",
    "import matplotlib.pyplot as plt\n",
    "from sklearn.metrics import mean_squared_error\n",
    "import hydroeval as he\n",
    "import xgboost as xgb\n",
    "import lightgbm as lgb\n",
    "import catboost as cb\n",
    "import shap\n",
    "from scipy.stats import kstest\n",
    "from scipy.stats import ks_2samp\n",
    "import pickle\n",
    "import fasttreeshap\n",
    "import plotly.express as px \n",
    "import torch\n",
    "import torch.nn as nn\n",
    "from torch.autograd import Variable\n",
    "from sklearn.preprocessing import StandardScaler, MinMaxScaler"
   ]
  },
  {
   "cell_type": "code",
   "execution_count": 2,
   "metadata": {},
   "outputs": [],
   "source": [
    "# Parâmetros para reprodutibilidade\n",
    "np.random.seed(42)"
   ]
  },
  {
   "cell_type": "markdown",
   "metadata": {},
   "source": [
    "# Obtenção dos Dados"
   ]
  },
  {
   "cell_type": "code",
   "execution_count": 3,
   "metadata": {},
   "outputs": [],
   "source": [
    "df_2018 = pd.read_csv ('data/series_temporais_tratadas_2018.csv').drop(['Unnamed: 0'],axis=1)\n",
    "df_2019 = pd.read_csv ('data/series_temporais_tratadas_2019.csv').drop(['Unnamed: 0'],axis=1)\n",
    "df_2020 = pd.read_csv ('data/series_temporais_tratadas_2020.csv').drop(['Unnamed: 0'],axis=1)\n",
    "df_2021 = pd.read_csv ('data/series_temporais_tratadas_2021.csv').drop(['Unnamed: 0'],axis=1)\n",
    "df_2022 = pd.read_csv ('data/series_temporais_tratadas_2022.csv').drop(['Unnamed: 0'],axis=1)\n",
    "df_2023 = pd.read_csv ('data/series_temporais_tratadas_2023.csv').drop(['Unnamed: 0'],axis=1)\n",
    "for df in [df_2018,df_2019,df_2020,df_2021,df_2022,df_2023]:\n",
    "    df['intervalo'] = pd.to_datetime(df['intervalo'])"
   ]
  },
  {
   "cell_type": "code",
   "execution_count": 4,
   "metadata": {},
   "outputs": [],
   "source": [
    "df_total = pd.DataFrame()\n",
    "# obs.: em 2021, excluímos um período em que a estação alvo 413 estava com problemas\n",
    "for df in [df_2018,df_2019,df_2020,df_2021.drop(df_2021.index[3000:4000]),df_2022]:\n",
    "    df_total = pd.concat([df_total,df], axis = 0)\n",
    "\n",
    "\n",
    "# Remover estações ruins (descobrimos que a 1000580 não tem nada a ver e a 143 está com problemas em 2021 e 2022)\n",
    "df_total = df_total.drop(columns = ['valor_leitura_flu_143', 'valor_leitura_flu_1000580'])"
   ]
  },
  {
   "cell_type": "code",
   "execution_count": 5,
   "metadata": {},
   "outputs": [],
   "source": [
    "df_total.to_csv('data_tamanduatei_2018_to_2022')"
   ]
  },
  {
   "cell_type": "code",
   "execution_count": 6,
   "metadata": {},
   "outputs": [],
   "source": [
    "df_total['year'] = df_total['intervalo'].dt.year"
   ]
  },
  {
   "cell_type": "code",
   "execution_count": 7,
   "metadata": {},
   "outputs": [],
   "source": [
    "pluviometric_stations = ['valor_leitura_plu_143','valor_leitura_plu_283','valor_leitura_plu_413','valor_leitura_plu_511','valor_leitura_plu_514','valor_leitura_plu_563','valor_leitura_plu_629','valor_leitura_plu_1000500','valor_leitura_plu_1000510','valor_leitura_plu_1000868']"
   ]
  },
  {
   "cell_type": "code",
   "execution_count": 8,
   "metadata": {},
   "outputs": [
    {
     "data": {
      "text/html": [
       "<div>\n",
       "<style scoped>\n",
       "    .dataframe tbody tr th:only-of-type {\n",
       "        vertical-align: middle;\n",
       "    }\n",
       "\n",
       "    .dataframe tbody tr th {\n",
       "        vertical-align: top;\n",
       "    }\n",
       "\n",
       "    .dataframe thead th {\n",
       "        text-align: right;\n",
       "    }\n",
       "</style>\n",
       "<table border=\"1\" class=\"dataframe\">\n",
       "  <thead>\n",
       "    <tr style=\"text-align: right;\">\n",
       "      <th></th>\n",
       "      <th>intervalo</th>\n",
       "      <th>year</th>\n",
       "      <th>valor_leitura_flu_413</th>\n",
       "      <th>valor_leitura_plu_143</th>\n",
       "      <th>valor_leitura_plu_283</th>\n",
       "      <th>valor_leitura_plu_413</th>\n",
       "      <th>valor_leitura_plu_511</th>\n",
       "      <th>valor_leitura_plu_514</th>\n",
       "      <th>valor_leitura_plu_563</th>\n",
       "      <th>valor_leitura_plu_629</th>\n",
       "      <th>valor_leitura_plu_1000500</th>\n",
       "      <th>valor_leitura_plu_1000510</th>\n",
       "      <th>valor_leitura_plu_1000868</th>\n",
       "    </tr>\n",
       "  </thead>\n",
       "  <tbody>\n",
       "    <tr>\n",
       "      <th>0</th>\n",
       "      <td>2018-01-01 02:00:00+00:00</td>\n",
       "      <td>2018</td>\n",
       "      <td>71707.500</td>\n",
       "      <td>0.0</td>\n",
       "      <td>0.0</td>\n",
       "      <td>0.0</td>\n",
       "      <td>0.0</td>\n",
       "      <td>0.0</td>\n",
       "      <td>0.0</td>\n",
       "      <td>0.0</td>\n",
       "      <td>0.0</td>\n",
       "      <td>0.0</td>\n",
       "      <td>0.0</td>\n",
       "    </tr>\n",
       "    <tr>\n",
       "      <th>1</th>\n",
       "      <td>2018-01-01 02:10:00+00:00</td>\n",
       "      <td>2018</td>\n",
       "      <td>71705.200</td>\n",
       "      <td>0.0</td>\n",
       "      <td>0.0</td>\n",
       "      <td>0.0</td>\n",
       "      <td>0.0</td>\n",
       "      <td>0.0</td>\n",
       "      <td>0.0</td>\n",
       "      <td>0.0</td>\n",
       "      <td>0.0</td>\n",
       "      <td>0.0</td>\n",
       "      <td>0.0</td>\n",
       "    </tr>\n",
       "    <tr>\n",
       "      <th>2</th>\n",
       "      <td>2018-01-01 02:20:00+00:00</td>\n",
       "      <td>2018</td>\n",
       "      <td>71703.695</td>\n",
       "      <td>0.0</td>\n",
       "      <td>0.0</td>\n",
       "      <td>0.0</td>\n",
       "      <td>0.0</td>\n",
       "      <td>0.0</td>\n",
       "      <td>0.0</td>\n",
       "      <td>0.0</td>\n",
       "      <td>0.0</td>\n",
       "      <td>0.0</td>\n",
       "      <td>0.0</td>\n",
       "    </tr>\n",
       "    <tr>\n",
       "      <th>3</th>\n",
       "      <td>2018-01-01 02:30:00+00:00</td>\n",
       "      <td>2018</td>\n",
       "      <td>71702.000</td>\n",
       "      <td>0.0</td>\n",
       "      <td>0.0</td>\n",
       "      <td>0.0</td>\n",
       "      <td>0.0</td>\n",
       "      <td>0.0</td>\n",
       "      <td>0.0</td>\n",
       "      <td>0.0</td>\n",
       "      <td>0.0</td>\n",
       "      <td>0.0</td>\n",
       "      <td>0.0</td>\n",
       "    </tr>\n",
       "    <tr>\n",
       "      <th>4</th>\n",
       "      <td>2018-01-01 02:40:00+00:00</td>\n",
       "      <td>2018</td>\n",
       "      <td>71700.300</td>\n",
       "      <td>0.0</td>\n",
       "      <td>0.0</td>\n",
       "      <td>0.0</td>\n",
       "      <td>0.0</td>\n",
       "      <td>0.0</td>\n",
       "      <td>0.0</td>\n",
       "      <td>0.0</td>\n",
       "      <td>0.0</td>\n",
       "      <td>0.0</td>\n",
       "      <td>0.0</td>\n",
       "    </tr>\n",
       "    <tr>\n",
       "      <th>...</th>\n",
       "      <td>...</td>\n",
       "      <td>...</td>\n",
       "      <td>...</td>\n",
       "      <td>...</td>\n",
       "      <td>...</td>\n",
       "      <td>...</td>\n",
       "      <td>...</td>\n",
       "      <td>...</td>\n",
       "      <td>...</td>\n",
       "      <td>...</td>\n",
       "      <td>...</td>\n",
       "      <td>...</td>\n",
       "      <td>...</td>\n",
       "    </tr>\n",
       "    <tr>\n",
       "      <th>12955</th>\n",
       "      <td>2022-04-01 02:10:00+00:00</td>\n",
       "      <td>2022</td>\n",
       "      <td>71675.000</td>\n",
       "      <td>0.0</td>\n",
       "      <td>0.0</td>\n",
       "      <td>0.0</td>\n",
       "      <td>0.0</td>\n",
       "      <td>0.0</td>\n",
       "      <td>0.0</td>\n",
       "      <td>0.0</td>\n",
       "      <td>0.0</td>\n",
       "      <td>0.2</td>\n",
       "      <td>0.0</td>\n",
       "    </tr>\n",
       "    <tr>\n",
       "      <th>12956</th>\n",
       "      <td>2022-04-01 02:20:00+00:00</td>\n",
       "      <td>2022</td>\n",
       "      <td>71674.000</td>\n",
       "      <td>0.0</td>\n",
       "      <td>0.0</td>\n",
       "      <td>0.0</td>\n",
       "      <td>0.0</td>\n",
       "      <td>0.0</td>\n",
       "      <td>0.0</td>\n",
       "      <td>0.0</td>\n",
       "      <td>0.0</td>\n",
       "      <td>0.0</td>\n",
       "      <td>0.0</td>\n",
       "    </tr>\n",
       "    <tr>\n",
       "      <th>12957</th>\n",
       "      <td>2022-04-01 02:30:00+00:00</td>\n",
       "      <td>2022</td>\n",
       "      <td>71675.000</td>\n",
       "      <td>0.0</td>\n",
       "      <td>0.0</td>\n",
       "      <td>0.0</td>\n",
       "      <td>0.0</td>\n",
       "      <td>0.0</td>\n",
       "      <td>0.0</td>\n",
       "      <td>0.0</td>\n",
       "      <td>0.0</td>\n",
       "      <td>0.0</td>\n",
       "      <td>0.0</td>\n",
       "    </tr>\n",
       "    <tr>\n",
       "      <th>12958</th>\n",
       "      <td>2022-04-01 02:40:00+00:00</td>\n",
       "      <td>2022</td>\n",
       "      <td>71676.000</td>\n",
       "      <td>0.0</td>\n",
       "      <td>0.0</td>\n",
       "      <td>0.0</td>\n",
       "      <td>0.0</td>\n",
       "      <td>0.0</td>\n",
       "      <td>0.0</td>\n",
       "      <td>0.0</td>\n",
       "      <td>0.0</td>\n",
       "      <td>0.0</td>\n",
       "      <td>0.0</td>\n",
       "    </tr>\n",
       "    <tr>\n",
       "      <th>12959</th>\n",
       "      <td>2022-04-01 02:50:00+00:00</td>\n",
       "      <td>2022</td>\n",
       "      <td>71677.000</td>\n",
       "      <td>0.0</td>\n",
       "      <td>0.0</td>\n",
       "      <td>0.0</td>\n",
       "      <td>0.0</td>\n",
       "      <td>0.0</td>\n",
       "      <td>0.0</td>\n",
       "      <td>0.0</td>\n",
       "      <td>0.0</td>\n",
       "      <td>0.0</td>\n",
       "      <td>0.0</td>\n",
       "    </tr>\n",
       "  </tbody>\n",
       "</table>\n",
       "<p>63944 rows × 13 columns</p>\n",
       "</div>"
      ],
      "text/plain": [
       "                      intervalo  year  valor_leitura_flu_413  \\\n",
       "0     2018-01-01 02:00:00+00:00  2018              71707.500   \n",
       "1     2018-01-01 02:10:00+00:00  2018              71705.200   \n",
       "2     2018-01-01 02:20:00+00:00  2018              71703.695   \n",
       "3     2018-01-01 02:30:00+00:00  2018              71702.000   \n",
       "4     2018-01-01 02:40:00+00:00  2018              71700.300   \n",
       "...                         ...   ...                    ...   \n",
       "12955 2022-04-01 02:10:00+00:00  2022              71675.000   \n",
       "12956 2022-04-01 02:20:00+00:00  2022              71674.000   \n",
       "12957 2022-04-01 02:30:00+00:00  2022              71675.000   \n",
       "12958 2022-04-01 02:40:00+00:00  2022              71676.000   \n",
       "12959 2022-04-01 02:50:00+00:00  2022              71677.000   \n",
       "\n",
       "       valor_leitura_plu_143  valor_leitura_plu_283  valor_leitura_plu_413  \\\n",
       "0                        0.0                    0.0                    0.0   \n",
       "1                        0.0                    0.0                    0.0   \n",
       "2                        0.0                    0.0                    0.0   \n",
       "3                        0.0                    0.0                    0.0   \n",
       "4                        0.0                    0.0                    0.0   \n",
       "...                      ...                    ...                    ...   \n",
       "12955                    0.0                    0.0                    0.0   \n",
       "12956                    0.0                    0.0                    0.0   \n",
       "12957                    0.0                    0.0                    0.0   \n",
       "12958                    0.0                    0.0                    0.0   \n",
       "12959                    0.0                    0.0                    0.0   \n",
       "\n",
       "       valor_leitura_plu_511  valor_leitura_plu_514  valor_leitura_plu_563  \\\n",
       "0                        0.0                    0.0                    0.0   \n",
       "1                        0.0                    0.0                    0.0   \n",
       "2                        0.0                    0.0                    0.0   \n",
       "3                        0.0                    0.0                    0.0   \n",
       "4                        0.0                    0.0                    0.0   \n",
       "...                      ...                    ...                    ...   \n",
       "12955                    0.0                    0.0                    0.0   \n",
       "12956                    0.0                    0.0                    0.0   \n",
       "12957                    0.0                    0.0                    0.0   \n",
       "12958                    0.0                    0.0                    0.0   \n",
       "12959                    0.0                    0.0                    0.0   \n",
       "\n",
       "       valor_leitura_plu_629  valor_leitura_plu_1000500  \\\n",
       "0                        0.0                        0.0   \n",
       "1                        0.0                        0.0   \n",
       "2                        0.0                        0.0   \n",
       "3                        0.0                        0.0   \n",
       "4                        0.0                        0.0   \n",
       "...                      ...                        ...   \n",
       "12955                    0.0                        0.0   \n",
       "12956                    0.0                        0.0   \n",
       "12957                    0.0                        0.0   \n",
       "12958                    0.0                        0.0   \n",
       "12959                    0.0                        0.0   \n",
       "\n",
       "       valor_leitura_plu_1000510  valor_leitura_plu_1000868  \n",
       "0                            0.0                        0.0  \n",
       "1                            0.0                        0.0  \n",
       "2                            0.0                        0.0  \n",
       "3                            0.0                        0.0  \n",
       "4                            0.0                        0.0  \n",
       "...                          ...                        ...  \n",
       "12955                        0.2                        0.0  \n",
       "12956                        0.0                        0.0  \n",
       "12957                        0.0                        0.0  \n",
       "12958                        0.0                        0.0  \n",
       "12959                        0.0                        0.0  \n",
       "\n",
       "[63944 rows x 13 columns]"
      ]
     },
     "execution_count": 8,
     "metadata": {},
     "output_type": "execute_result"
    }
   ],
   "source": [
    "df_total[['intervalo','year','valor_leitura_flu_413'] + pluviometric_stations]"
   ]
  },
  {
   "cell_type": "code",
   "execution_count": 9,
   "metadata": {},
   "outputs": [],
   "source": [
    "train_part1 = df_total[df_total['year']==2018]\n",
    "train_part2 = df_total[df_total['year']==2019]\n",
    "#train = df_total[df_total['year']==2018]\n",
    "test = df_total[df_total['year']==2020]"
   ]
  },
  {
   "cell_type": "code",
   "execution_count": 10,
   "metadata": {},
   "outputs": [
    {
     "name": "stderr",
     "output_type": "stream",
     "text": [
      "\n",
      "A value is trying to be set on a copy of a slice from a DataFrame.\n",
      "Try using .loc[row_indexer,col_indexer] = value instead\n",
      "\n",
      "See the caveats in the documentation: https://pandas.pydata.org/pandas-docs/stable/user_guide/indexing.html#returning-a-view-versus-a-copy\n",
      "\n",
      "A value is trying to be set on a copy of a slice from a DataFrame\n",
      "\n",
      "See the caveats in the documentation: https://pandas.pydata.org/pandas-docs/stable/user_guide/indexing.html#returning-a-view-versus-a-copy\n",
      "\n",
      "A value is trying to be set on a copy of a slice from a DataFrame.\n",
      "Try using .loc[row_indexer,col_indexer] = value instead\n",
      "\n",
      "See the caveats in the documentation: https://pandas.pydata.org/pandas-docs/stable/user_guide/indexing.html#returning-a-view-versus-a-copy\n",
      "\n",
      "A value is trying to be set on a copy of a slice from a DataFrame\n",
      "\n",
      "See the caveats in the documentation: https://pandas.pydata.org/pandas-docs/stable/user_guide/indexing.html#returning-a-view-versus-a-copy\n",
      "\n",
      "A value is trying to be set on a copy of a slice from a DataFrame.\n",
      "Try using .loc[row_indexer,col_indexer] = value instead\n",
      "\n",
      "See the caveats in the documentation: https://pandas.pydata.org/pandas-docs/stable/user_guide/indexing.html#returning-a-view-versus-a-copy\n",
      "\n",
      "A value is trying to be set on a copy of a slice from a DataFrame\n",
      "\n",
      "See the caveats in the documentation: https://pandas.pydata.org/pandas-docs/stable/user_guide/indexing.html#returning-a-view-versus-a-copy\n"
     ]
    }
   ],
   "source": [
    "train_part1['valor_leitura_flu_413_future'] = train_part1['valor_leitura_flu_413'].shift(periods=-11)\n",
    "train_part1.dropna(inplace=True)\n",
    "train_part2['valor_leitura_flu_413_future'] = train_part2['valor_leitura_flu_413'].shift(periods=-11)\n",
    "train_part2.dropna(inplace=True)\n",
    "test['valor_leitura_flu_413_future'] = test['valor_leitura_flu_413'].shift(periods=-11)\n",
    "test.dropna(inplace=True)\n",
    "\n",
    "train = pd.concat([train_part1,train_part2],axis=0)"
   ]
  },
  {
   "cell_type": "code",
   "execution_count": 11,
   "metadata": {},
   "outputs": [],
   "source": [
    "X_train = train.drop(columns = ['intervalo','valor_leitura_flu_413_future'])\n",
    "y_train = train['valor_leitura_flu_413_future'].values\n",
    "\n",
    "X_test = test.drop(columns = ['intervalo','valor_leitura_flu_413_future'])\n",
    "y_test = test['valor_leitura_flu_413_future'].values"
   ]
  },
  {
   "cell_type": "code",
   "execution_count": 12,
   "metadata": {},
   "outputs": [],
   "source": [
    "# Tutorial\n",
    "# https://charlieoneill.medium.com/predicting-the-price-of-bitcoin-with-multivariate-pytorch-lstms-695bc294130\n",
    "\n",
    "mm = MinMaxScaler()\n",
    "ss = StandardScaler()\n",
    "\n",
    "mm.fit(X_train)\n",
    "ss.fit(X_train)\n",
    "X_train_trans = ss.transform(X_train)\n",
    "X_test_trans = ss.transform(X_test)\n",
    "\n",
    "mm.fit(y_train.reshape(-1, 1))\n",
    "ss.fit(y_train.reshape(-1, 1))\n",
    "\n",
    "y_train_trans = mm.transform(y_train.reshape(-1, 1))\n",
    "y_test_trans = mm.transform(y_test.reshape(-1, 1))"
   ]
  },
  {
   "cell_type": "code",
   "execution_count": 13,
   "metadata": {},
   "outputs": [
    {
     "name": "stdout",
     "output_type": "stream",
     "text": [
      "(12938, 12, 17) (12938, 1)\n"
     ]
    }
   ],
   "source": [
    "# split a multivariate sequence past, future samples (X and y)\n",
    "def split_sequences(input_sequences, output_sequence, n_steps_in, n_steps_out):\n",
    "    X, y = list(), list() # instantiate X and y\n",
    "    for i in range(len(input_sequences)):\n",
    "        # find the end of the input, output sequence\n",
    "        end_ix = i + n_steps_in\n",
    "        out_end_ix = end_ix + n_steps_out - 1\n",
    "        # check if we are beyond the dataset\n",
    "        if out_end_ix > len(input_sequences): break\n",
    "        # gather input and output of the pattern\n",
    "        seq_x, seq_y = input_sequences[i:end_ix], output_sequence[end_ix-1:out_end_ix, -1]\n",
    "        X.append(seq_x), y.append(seq_y)\n",
    "    return np.array(X), np.array(y)\n",
    "\n",
    "X_train_part1, y_train_part1 = split_sequences(X_train_trans[0:12949], y_train_trans[0:12949], 12, 1)\n",
    "X_train_part2, y_train_part2 = split_sequences(X_train_trans[12949:], y_train_trans[12949:], 12, 1)\n",
    "X_test, y_test = split_sequences(X_test_trans, y_test_trans, 12, 1)\n",
    "print(X_train_part1.shape, y_train_part1.shape)"
   ]
  },
  {
   "cell_type": "code",
   "execution_count": 14,
   "metadata": {},
   "outputs": [],
   "source": [
    "X_train = np.concatenate((X_train_part1, X_train_part2), axis = 0)\n",
    "y_train = np.concatenate((y_train_part1, y_train_part2), axis = 0)"
   ]
  },
  {
   "cell_type": "code",
   "execution_count": 15,
   "metadata": {},
   "outputs": [],
   "source": [
    "# convert to pytorch tensors\n",
    "X_train_tensors = torch.from_numpy(X_train)\n",
    "X_test_tensors = torch.from_numpy(X_test)\n",
    "\n",
    "y_train_tensors = torch.from_numpy(y_train)\n",
    "y_test_tensors = torch.from_numpy(y_test)"
   ]
  },
  {
   "cell_type": "code",
   "execution_count": 16,
   "metadata": {},
   "outputs": [],
   "source": [
    "X_train_tensors = X_train_tensors.to(torch.float32)\n",
    "y_train_tensors = y_train_tensors.to(torch.float32)\n",
    "X_test_tensors = X_test_tensors.to(torch.float32)\n",
    "y_test_tensors = y_test_tensors.to(torch.float32)"
   ]
  },
  {
   "cell_type": "code",
   "execution_count": 17,
   "metadata": {},
   "outputs": [
    {
     "name": "stdout",
     "output_type": "stream",
     "text": [
      "Training Shape: torch.Size([25876, 12, 17]) torch.Size([25876, 1])\n",
      "Testing Shape: torch.Size([13082, 12, 17]) torch.Size([13082, 1])\n"
     ]
    }
   ],
   "source": [
    "# reshaping to rows, timestamps, features\n",
    "X_train_tensors_final = torch.reshape(X_train_tensors,   \n",
    "                                      (X_train_tensors.shape[0], 12, \n",
    "                                       X_train_tensors.shape[2]))\n",
    "X_test_tensors_final = torch.reshape(X_test_tensors,  \n",
    "                                     (X_test_tensors.shape[0], 12, \n",
    "                                      X_test_tensors.shape[2])) \n",
    "\n",
    "print(\"Training Shape:\", X_train_tensors_final.shape, y_train_tensors.shape)\n",
    "print(\"Testing Shape:\", X_test_tensors_final.shape, y_test_tensors.shape) "
   ]
  },
  {
   "cell_type": "code",
   "execution_count": 146,
   "metadata": {},
   "outputs": [],
   "source": [
    "class LSTM(nn.Module):\n",
    "    \n",
    "    def __init__(self, num_classes, input_size, hidden_size, num_layers):\n",
    "        super().__init__()\n",
    "        self.num_classes = num_classes # output size\n",
    "        self.num_layers = num_layers # number of recurrent layers in the lstm\n",
    "        self.input_size = input_size # input size\n",
    "        self.hidden_size = hidden_size # neurons in each lstm layer\n",
    "        # LSTM model\n",
    "        self.lstm = nn.LSTM(input_size=input_size, hidden_size=hidden_size,\n",
    "                           num_layers=num_layers, batch_first=True, dropout=0.4) # lstm\n",
    "        self.fc_1 =  nn.Linear(hidden_size, 128) # fully connected \n",
    "        self.fc_2 = nn.Linear(128, num_classes) # fully connected last layer\n",
    "        self.relu = nn.ReLU()\n",
    "        \n",
    "    def forward(self,x):\n",
    "        # hidden state\n",
    "        #h_0 = Variable(torch.zeros(self.num_layers, x.size(0), self.hidden_size))\n",
    "        h_0 = torch.zeros(self.num_layers, x.size(0), self.hidden_size,dtype = torch.float32)\n",
    "        # cell state\n",
    "        #c_0 = Variable(torch.zeros(self.num_layers, x.size(0), self.hidden_size))\n",
    "        c_0 = torch.zeros(self.num_layers, x.size(0), self.hidden_size,dtype = torch.float32)\n",
    "        # propagate input through LSTM\n",
    "        output, (hn, cn) = self.lstm(x, (h_0, c_0)) # (input, hidden, and internal state)\n",
    "        hn = hn.view(-1, self.hidden_size) # reshaping the data for Dense layer next\n",
    "        out = self.relu(hn)\n",
    "        out = self.fc_1(out) # first dense\n",
    "        out = self.relu(out) # relu\n",
    "        out = self.fc_2(out) # final output\n",
    "        return out"
   ]
  },
  {
   "cell_type": "code",
   "execution_count": 147,
   "metadata": {},
   "outputs": [],
   "source": [
    "def training_loop(n_epochs, lstm, optimiser, loss_fn, X_train, y_train,\n",
    "                  X_test, y_test):\n",
    "    for epoch in range(n_epochs):\n",
    "        lstm.train()\n",
    "        outputs = lstm.forward(X_train) # forward pass\n",
    "        optimiser.zero_grad() # calculate the gradient, manually setting to 0\n",
    "        # obtain the loss function\n",
    "        loss = loss_fn(outputs, y_train)\n",
    "        loss.backward() # calculates the loss of the loss function\n",
    "        optimiser.step() # improve from loss, i.e backprop\n",
    "        # test loss\n",
    "        lstm.eval()\n",
    "        test_preds = lstm(X_test)\n",
    "        test_loss = loss_fn(test_preds, y_test)\n",
    "        if epoch % 100 == 0:\n",
    "            print(\"Epoch: %d, train loss: %1.5f, test loss: %1.5f\" % (epoch, \n",
    "                                                                      loss.item(), \n",
    "                                                                      test_loss.item())) \n",
    "    return test_preds"
   ]
  },
  {
   "cell_type": "code",
   "execution_count": 148,
   "metadata": {},
   "outputs": [
    {
     "name": "stdout",
     "output_type": "stream",
     "text": [
      "Device is :: mps\n"
     ]
    }
   ],
   "source": [
    "CPU= False\n",
    "device = \"cpu\" if CPU else torch.device(\"mps\")\n",
    "print(\"Device is :: {}\".format(device))"
   ]
  },
  {
   "cell_type": "code",
   "execution_count": 149,
   "metadata": {},
   "outputs": [],
   "source": [
    "import warnings\n",
    "warnings.filterwarnings('ignore')\n",
    "\n",
    "n_epochs = 300\n",
    "learning_rate = 0.001 # 0.001 lr\n",
    "\n",
    "input_size = 17 # number of features\n",
    "hidden_size = 20 # number of features in hidden state\n",
    "num_layers = 1 # number of stacked lstm layers\n",
    "\n",
    "num_classes = 1 # number of output classes \n",
    "\n",
    "lstm = LSTM(num_classes, \n",
    "              input_size, \n",
    "              hidden_size, \n",
    "              num_layers)\n",
    "\n",
    "loss_fn = torch.nn.MSELoss()    # mean-squared error for regression\n",
    "optimiser = torch.optim.Adam(lstm.parameters(), lr=learning_rate)"
   ]
  },
  {
   "cell_type": "code",
   "execution_count": 150,
   "metadata": {},
   "outputs": [
    {
     "name": "stdout",
     "output_type": "stream",
     "text": [
      "Epoch: 0, train loss: 0.02915, test loss: 0.02529\n",
      "Epoch: 100, train loss: 0.00225, test loss: 0.00609\n",
      "Epoch: 200, train loss: 0.00172, test loss: 0.00661\n"
     ]
    }
   ],
   "source": [
    "prediction = training_loop(n_epochs=n_epochs,\n",
    "              lstm=lstm,\n",
    "              optimiser=optimiser,\n",
    "              loss_fn=loss_fn,\n",
    "              X_train=X_train_tensors_final,\n",
    "              y_train=y_train_tensors,\n",
    "              X_test=X_test_tensors_final,\n",
    "              y_test=y_test_tensors)"
   ]
  },
  {
   "cell_type": "code",
   "execution_count": 151,
   "metadata": {},
   "outputs": [
    {
     "data": {
      "image/png": "[encoded data removed]",
      "text/plain": [
       "<Figure size 1000x600 with 1 Axes>"
      ]
     },
     "metadata": {},
     "output_type": "display_data"
    },
    {
     "name": "stdout",
     "output_type": "stream",
     "text": [
      "RMSE:  104.24539\n",
      "NSE:  -0.039642453451552706\n"
     ]
    }
   ],
   "source": [
    "# Prediction and Plot with 20 hidden states\n",
    "prediction_final = prediction.data.numpy()\n",
    "y_test_tensors_final = y_test_tensors.data.numpy()\n",
    "data_predict = mm.inverse_transform(prediction_final) # reverse transformation\n",
    "dataY_plot = mm.inverse_transform(y_test_tensors_final)\n",
    "true, preds = [], []\n",
    "for i in range(len(dataY_plot)):\n",
    "    true.append(dataY_plot[i][0])\n",
    "for i in range(len(data_predict)):\n",
    "    preds.append(data_predict[i][0])\n",
    "plt.figure(figsize=(10,6)) #plotting\n",
    "\n",
    "plt.plot(true[4000:7000], label='Actual Data') # actual plot\n",
    "plt.plot(preds[4000:7000], label='Predicted Data') # predicted plot\n",
    "plt.title('Time-Series Prediction')\n",
    "plt.legend()\n",
    "plt.show() \n",
    "\n",
    "mse = mean_squared_error(preds, true)\n",
    "rmse = np.sqrt(mse)\n",
    "nse = he.evaluator(he.nse, preds, true)\n",
    "nse = nse[0]\n",
    "print('RMSE: ',rmse)\n",
    "print('NSE: ',nse)"
   ]
  },
  {
   "cell_type": "code",
   "execution_count": null,
   "metadata": {},
   "outputs": [],
   "source": []
  }
 ],
 "metadata": {
  "kernelspec": {
   "display_name": "tamanduatei",
   "language": "python",
   "name": "python3"
  },
  "language_info": {
   "codemirror_mode": {
    "name": "ipython",
    "version": 3
   },
   "file_extension": ".py",
   "mimetype": "text/x-python",
   "name": "python",
   "nbconvert_exporter": "python",
   "pygments_lexer": "ipython3",
   "version": "3.10.0"
  }
 },
 "nbformat": 4,
 "nbformat_minor": 2
}
